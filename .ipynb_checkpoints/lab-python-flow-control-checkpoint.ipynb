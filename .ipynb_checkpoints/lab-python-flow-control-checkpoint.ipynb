{
 "cells": [
  {
   "cell_type": "markdown",
   "id": "d3bfc191-8885-42ee-b0a0-bbab867c6f9f",
   "metadata": {
    "tags": []
   },
   "source": [
    "# Lab | Flow Control"
   ]
  },
  {
   "cell_type": "markdown",
   "id": "3851fcd1-cf98-4653-9c89-e003b7ec9400",
   "metadata": {},
   "source": [
    "## Exercise: Managing Customer Orders Optimized\n",
    "\n",
    "In the last lab, you were starting an online store that sells various products. To ensure smooth operations, you developed a program that manages customer orders and inventory.\n",
    "\n",
    "You did so without using flow control. Let's go a step further and improve this code.\n",
    "\n",
    "Follow the steps below to complete the exercise:\n",
    "\n",
    "1. Look at your code from the lab data structures, and improve repeated code with loops.\n",
    "\n",
    "2. Instead of asking the user to input the name of three products that a customer wants to order, do the following:\n",
    "    \n",
    "    a. Prompt the user to enter the name of a product that a customer wants to order.\n",
    "    \n",
    "    b. Add the product name to the \"customer_orders\" set.\n",
    "    \n",
    "    c. Ask the user if they want to add another product (yes/no).\n",
    "    \n",
    "    d. Continue the loop until the user does not want to add another product.\n",
    "\n",
    "3. Instead of updating the inventory by subtracting 1 from the quantity of each product, only do it for  the products that were ordered (those in \"customer_orders\")."
   ]
  },
  {
   "cell_type": "code",
   "execution_count": 29,
   "id": "374f585a-4851-40c5-a762-e691d2b4b931",
   "metadata": {},
   "outputs": [
    {
     "name": "stdin",
     "output_type": "stream",
     "text": [
      "Enter the available quantity for t-shirt:  5\n",
      "Enter the available quantity for mug:  5\n",
      "Enter the available quantity for hat:  5\n",
      "Enter the available quantity for book:  5\n",
      "Enter the available quantity for keychain:  5\n",
      "Enter a product the customer wants to order (t-shirt, mug, hat, book, keychain):  hat\n",
      "Do you want to order another product? (yes/no) yes\n",
      "Enter a product the customer wants to order (t-shirt, mug, hat, book, keychain):  hat\n",
      "Do you want to order another product? (yes/no) yes\n",
      "Enter a product the customer wants to order (t-shirt, mug, hat, book, keychain):  mug\n",
      "Do you want to order another product? (yes/no) no\n"
     ]
    },
    {
     "name": "stdout",
     "output_type": "stream",
     "text": [
      "Products ordered by the customer: {'mug', 'hat'}\n",
      "\n",
      "Order Statistics:\n",
      "Total Products Ordered: 2\n",
      "Percentage of Products Ordered: 8.0%\n",
      "\n",
      "t-shirt: 5\n",
      "mug: 4\n",
      "hat: 4\n",
      "book: 5\n",
      "keychain: 5\n"
     ]
    }
   ],
   "source": [
    "products = [\"t-shirt\", \"mug\", \"hat\", \"book\", \"keychain\"]\n",
    "inventory = {}\n",
    "\n",
    "for product in products:\n",
    "    inventory[product] = int(input(f\"Enter the available quantity for {product}: \"))\n",
    "\n",
    "customer_orders = set()\n",
    "\n",
    "reorder = \"yes\"\n",
    "while reorder == \"yes\":\n",
    "    order = input(\"Enter a product the customer wants to order (t-shirt, mug, hat, book, keychain): \").lower()\n",
    "    if order in products:\n",
    "        customer_orders.add(order)\n",
    "        reorder = input(\"Do you want to order another product? (yes/no)\").lower()\n",
    "    else:\n",
    "        print(\"Invalid product, please enter a valid product.\")\n",
    "else:  \n",
    "   print(\"Products ordered by the customer:\", customer_orders)\n",
    "\n",
    "total_products_ordered = len(customer_orders)\n",
    "total_available_products = sum(inventory.values())\n",
    "percentage_ordered = (total_products_ordered/total_available_products) * 100\n",
    "order_status = (total_products_ordered, percentage_ordered)\n",
    "\n",
    "print(f\"\"\"\n",
    "Order Statistics:\n",
    "Total Products Ordered: {total_products_ordered}\n",
    "Percentage of Products Ordered: {percentage_ordered}%\n",
    "\"\"\")\n",
    "\n",
    "for product in customer_orders:\n",
    "    if inventory[product] > 0:\n",
    "      inventory[product] -= 1\n",
    "\n",
    "for product, quantity in inventory.items():\n",
    "  print(f\"{product}: {quantity}\")"
   ]
  },
  {
   "cell_type": "code",
   "execution_count": null,
   "id": "7d681f62-3d83-4048-b8d1-95778c8cecbf",
   "metadata": {},
   "outputs": [],
   "source": []
  },
  {
   "cell_type": "code",
   "execution_count": null,
   "id": "5346e312-32f3-4a29-ade1-1504b03e29cd",
   "metadata": {},
   "outputs": [],
   "source": []
  },
  {
   "cell_type": "code",
   "execution_count": null,
   "id": "0444a55a-b960-4f70-925d-501e0a7233ec",
   "metadata": {},
   "outputs": [],
   "source": []
  },
  {
   "cell_type": "code",
   "execution_count": null,
   "id": "964f566c-192d-438b-a879-ed65e3af7b97",
   "metadata": {},
   "outputs": [],
   "source": []
  },
  {
   "cell_type": "code",
   "execution_count": null,
   "id": "653282d6-d4ca-4e77-b749-97ced26623ea",
   "metadata": {},
   "outputs": [],
   "source": []
  },
  {
   "cell_type": "code",
   "execution_count": null,
   "id": "3f684b47-ecc1-4a10-8ee9-db60a69a90b8",
   "metadata": {},
   "outputs": [],
   "source": []
  },
  {
   "cell_type": "code",
   "execution_count": null,
   "id": "877036f6-ac0a-4c9d-9d26-6e3641f0c851",
   "metadata": {},
   "outputs": [],
   "source": []
  }
 ],
 "metadata": {
  "kernelspec": {
   "display_name": "Python 3 (ipykernel)",
   "language": "python",
   "name": "python3"
  },
  "language_info": {
   "codemirror_mode": {
    "name": "ipython",
    "version": 3
   },
   "file_extension": ".py",
   "mimetype": "text/x-python",
   "name": "python",
   "nbconvert_exporter": "python",
   "pygments_lexer": "ipython3",
   "version": "3.12.4"
  }
 },
 "nbformat": 4,
 "nbformat_minor": 5
}
